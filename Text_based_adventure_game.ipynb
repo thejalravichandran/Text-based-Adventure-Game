{
  "nbformat": 4,
  "nbformat_minor": 0,
  "metadata": {
    "colab": {
      "provenance": []
    },
    "kernelspec": {
      "name": "python3",
      "display_name": "Python 3"
    },
    "language_info": {
      "name": "python"
    }
  },
  "cells": [
    {
      "cell_type": "code",
      "execution_count": null,
      "metadata": {
        "colab": {
          "base_uri": "https://localhost:8080/"
        },
        "id": "snD9CVMfpPrd",
        "outputId": "634ab67a-3322-42fa-bb03-a4194247ceb6"
      },
      "outputs": [
        {
          "output_type": "stream",
          "name": "stdout",
          "text": [
            "You are in the hall. There is a door to the kitchen and a stairway leading upstairs.\n",
            "Where do you want to go? upstairs\n",
            "You are in the bedroom. There is a stairway leading back downstairs.\n",
            "Where do you want to go? downstairs\n",
            "You are in the hall. There is a door to the kitchen and a stairway leading upstairs.\n",
            "Where do you want to go? north\n",
            "You are in the kitchen. There is a door back to the hall.\n",
            "Where do you want to go? south\n",
            "You are in the hall. There is a door to the kitchen and a stairway leading upstairs.\n",
            "Where do you want to go? exit\n",
            "Thanks for playing!\n",
            "You are in the hall. There is a door to the kitchen and a stairway leading upstairs.\n",
            "Where do you want to go? (type 'quit' to exit) quit\n",
            "Thanks for playing!\n"
          ]
        }
      ],
      "source": [
        "# Define the rooms and their descriptions\n",
        "rooms = {\n",
        "    'Hall': {\n",
        "        'description': 'You are in the hall. There is a door to the kitchen and a stairway leading upstairs.',\n",
        "        'north': 'Kitchen',\n",
        "        'upstairs': 'Bedroom'\n",
        "    },\n",
        "    'Kitchen': {\n",
        "        'description': 'You are in the kitchen. There is a door back to the hall.',\n",
        "        'south': 'Hall'\n",
        "    },\n",
        "    'Bedroom': {\n",
        "        'description': 'You are in the bedroom. There is a stairway leading back downstairs.',\n",
        "        'downstairs': 'Hall'\n",
        "    }\n",
        "}\n",
        "\n",
        "# Initialize the starting location\n",
        "current_room = 'Hall'\n",
        "def print_room_description(room):\n",
        "    print(rooms[room]['description'])\n",
        "\n",
        "def get_next_move():\n",
        "    return input(\"Where do you want to go? \").strip().lower()\n",
        "\n",
        "def move(current_room, direction):\n",
        "    if direction in rooms[current_room]:\n",
        "        return rooms[current_room][direction]\n",
        "    else:\n",
        "        print(\"You can't go that way!\")\n",
        "        return current_room\n",
        "\n",
        "# Game loop\n",
        "while True:\n",
        "    print_room_description(current_room)\n",
        "\n",
        "    move_direction = get_next_move()\n",
        "    if move_direction in ['quit', 'exit']:\n",
        "        print(\"Thanks for playing!\")\n",
        "        break\n",
        "\n",
        "    current_room = move(current_room, move_direction)\n",
        "# Define the rooms and their descriptions\n",
        "rooms = {\n",
        "    'Hall': {\n",
        "        'description': 'You are in the hall. There is a door to the kitchen and a stairway leading upstairs.',\n",
        "        'north': 'Kitchen',\n",
        "        'upstairs': 'Bedroom'\n",
        "    },\n",
        "    'Kitchen': {\n",
        "        'description': 'You are in the kitchen. There is a door back to the hall.',\n",
        "        'south': 'Hall'\n",
        "    },\n",
        "    'Bedroom': {\n",
        "        'description': 'You are in the bedroom. There is a stairway leading back downstairs.',\n",
        "        'downstairs': 'Hall'\n",
        "    }\n",
        "}\n",
        "\n",
        "# Initialize the starting location\n",
        "current_room = 'Hall'\n",
        "\n",
        "def print_room_description(room):\n",
        "    \"\"\"\n",
        "    Prints the description of the current room.\n",
        "    \"\"\"\n",
        "    print(rooms[room]['description'])\n",
        "\n",
        "def get_next_move():\n",
        "    \"\"\"\n",
        "    Prompts the player to enter their next move.\n",
        "    \"\"\"\n",
        "    return input(\"Where do you want to go? (type 'quit' to exit) \").strip().lower()\n",
        "\n",
        "def move(current_room, direction):\n",
        "    \"\"\"\n",
        "    Attempts to move to a new room based on the direction provided.\n",
        "    Returns the new room if the move is valid, otherwise returns the current room.\n",
        "    \"\"\"\n",
        "    if direction in rooms[current_room]:\n",
        "        return rooms[current_room][direction]\n",
        "    else:\n",
        "        print(\"You can't go that way!\")\n",
        "        return current_room\n",
        "\n",
        "# Game loop\n",
        "while True:\n",
        "    print_room_description(current_room)\n",
        "\n",
        "    move_direction = get_next_move()\n",
        "    if move_direction in ['quit', 'exit']:\n",
        "        print(\"Thanks for playing!\")\n",
        "        break\n",
        "\n",
        "    current_room = move(current_room, move_direction)\n"
      ]
    },
    {
      "cell_type": "code",
      "source": [],
      "metadata": {
        "id": "X-nIKSFIvdVp"
      },
      "execution_count": null,
      "outputs": []
    },
    {
      "cell_type": "code",
      "source": [],
      "metadata": {
        "id": "iaGQq9mtvvXy"
      },
      "execution_count": null,
      "outputs": []
    }
  ]
}